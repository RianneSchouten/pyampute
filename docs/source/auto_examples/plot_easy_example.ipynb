{
  "cells": [
    {
      "cell_type": "code",
      "execution_count": null,
      "metadata": {
        "collapsed": false
      },
      "outputs": [],
      "source": [
        "%matplotlib inline"
      ]
    },
    {
      "cell_type": "markdown",
      "metadata": {},
      "source": [
        "\n# A quick example\n\nAmputation is the opposite of imputation: the generation of missing values in complete datasets. That is useful in an experimental setting where you want to evaluate the effect of missing values on the outcome of a model. \n\n:class:`~pyampute.ampute.MultivariateAmputation` is designed following scikit-learn's ``fit`` and ``transform`` paradigm, and can therefore seamless be integrated in a larger data processing pipeline.\n\nHere, we give a short demonstration. A more extensive example can be found in `this example`_. For people who are familiar with the implementation of multivariate amputation in R-function `ampute`_, `this blogpost`_ gives an overview of the similarities and differences with :class:`~pyampute.ampute.MultivariateAmputation`. Inspection of an incomplete dataset can be done with :class:`~pyampute.exploration.md_patterns.mdPatterns`.\n\nNote that the amputation methodology itself is proposed in `Generating missing values for simulation purposes`_ and in `The dance of the mechanisms`_.\n\n"
      ]
    },
    {
      "cell_type": "code",
      "execution_count": null,
      "metadata": {
        "collapsed": false
      },
      "outputs": [],
      "source": [
        "# Author: Rianne Schouten <https://rianneschouten.github.io/>\n# Co-Author: Davina Zamanzadeh <https://davinaz.me/>"
      ]
    },
    {
      "cell_type": "markdown",
      "metadata": {},
      "source": [
        "## Transforming one dataset\n\n Multivariate amputation of one dataset can directly be performed with ``fit_transform``. Inspection of an incomplete dataset can be done with :class:`~pyampute.exploration.md_patterns.mdPatterns`. By default, :class:`~pyampute.ampute.MultivariateAmputation` generates 1 pattern with MAR missingness in 50% of the data rows for 50% of the variables.\n\n\n"
      ]
    },
    {
      "cell_type": "code",
      "execution_count": null,
      "metadata": {
        "collapsed": false
      },
      "outputs": [],
      "source": [
        "import numpy as np\n\nfrom pyampute.ampute import MultivariateAmputation\nfrom pyampute.exploration.md_patterns import mdPatterns\n\nrng = np.random.RandomState(2022)\n\nm = 1000\nn = 10\nX_compl = np.random.randn(m,n)\n\nma = MultivariateAmputation()\nX_incompl = ma.fit_transform(X_compl)\n\nmdp = mdPatterns()\npatterns = mdp.get_patterns(X_incompl)"
      ]
    },
    {
      "cell_type": "markdown",
      "metadata": {},
      "source": [
        "## A separate fit and transform\n\n Integration in a larger pipeline requires separate ``fit`` and ``transform`` functionality. \n\n\n"
      ]
    },
    {
      "cell_type": "code",
      "execution_count": null,
      "metadata": {
        "collapsed": false
      },
      "outputs": [],
      "source": [
        "from sklearn.model_selection import train_test_split\n\nX_compl_train, X_compl_test = train_test_split(X_compl, random_state=2022)\nma = MultivariateAmputation()\nma.fit(X_compl_train)\nX_incompl_test = ma.transform(X_compl_test)"
      ]
    },
    {
      "cell_type": "markdown",
      "metadata": {},
      "source": [
        "## Integration in a pipeline\n\n A short pipeline may look as follows. \n\n\n\n"
      ]
    },
    {
      "cell_type": "code",
      "execution_count": null,
      "metadata": {
        "collapsed": false
      },
      "outputs": [],
      "source": [
        "from sklearn.pipeline import make_pipeline\nfrom sklearn.impute import SimpleImputer\nimport matplotlib.pyplot as plt\n\npipe = make_pipeline(MultivariateAmputation(), SimpleImputer())\npipe.fit(X_compl_train)\n\nX_imp_test = pipe.transform(X_compl_test)"
      ]
    },
    {
      "cell_type": "markdown",
      "metadata": {},
      "source": [
        "By default, ``SimpleImputer`` imputes with the mean of the observed data. It is therefore like that we find the median in 50% of the rows (of the test set, which contains 25% of $m$) for 50% of the variables.\n\n"
      ]
    },
    {
      "cell_type": "code",
      "execution_count": null,
      "metadata": {
        "collapsed": false
      },
      "outputs": [],
      "source": [
        "medians = np.nanmedian(X_imp_test, axis=0)\nprint(np.sum(X_imp_test == medians[None,:], axis=0))"
      ]
    },
    {
      "cell_type": "markdown",
      "metadata": {},
      "source": [
        "For more information about ``pyampute``'s parameters, see `A mapping from R-function ampute to pyampute`_. To learn how to design a more thorough experiment, see `Evaluating missing values with a simulation pipeline`_.\n\n\n"
      ]
    }
  ],
  "metadata": {
    "kernelspec": {
      "display_name": "Python 3",
      "language": "python",
      "name": "python3"
    },
    "language_info": {
      "codemirror_mode": {
        "name": "ipython",
        "version": 3
      },
      "file_extension": ".py",
      "mimetype": "text/x-python",
      "name": "python",
      "nbconvert_exporter": "python",
      "pygments_lexer": "ipython3",
      "version": "3.8.1"
    }
  },
  "nbformat": 4,
  "nbformat_minor": 0
}