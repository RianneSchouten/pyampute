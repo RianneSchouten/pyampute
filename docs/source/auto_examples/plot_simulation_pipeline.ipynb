{
  "cells": [
    {
      "cell_type": "code",
      "execution_count": null,
      "metadata": {
        "collapsed": false
      },
      "outputs": [],
      "source": [
        "%matplotlib inline"
      ]
    },
    {
      "cell_type": "markdown",
      "metadata": {},
      "source": [
        "\n# Evaluating missing values with a simulation pipeline\n\nMultivariate amputation can be used to evaluate the effect of missing values on the outcome of an\n analysis or experiment. In general, such an experiment is designed as follows:\n\n1. Generate or import a complete dataset\n2. Ampute the dataset\n3. Impute the dataset\n4. Compare the performance of a model between the dataset in step 1, 2 and 3.\nWe will demonstrate how that works.\n\n%%\nAuthor: Rianne Schouten <r.m.schouten@tue.nl>\n\n## A complete dataset\n\nA complete dataset can synthetically be designed.\nIn that case, be aware to create a correlation structure\nbetween features, since correlation ensures that the missing values differ from the observed values,\nwhich again results in a change of performance of your model (see [1]_). Furthermore, a correlation\nstructure is needed for many useful imputation methods.\n\nAnother option is to work with a complete portion of an already incomplete dataset.\n"
      ]
    },
    {
      "cell_type": "code",
      "execution_count": null,
      "metadata": {
        "collapsed": false
      },
      "outputs": [],
      "source": [
        "from pyampute.ampute import MultivariateAmputation\nfrom pyampute.exploration.md_patterns import mdPatterns\nimport numpy as np\n\n\n\n\nm = 1000\nn = 10\ncompl_dataset = np.random.randn(n, m)\n\"\"\"\n%%\nMultivariate Amputation\n-----------------------\n\nWith our multivariate amputation methodology, it is straightforward\nto generate all sorts of missing data problems.We advise to evaluate the\nperformance of your model for different settings of the algorithm. For instance, compare\nMCAR, MAR and MNAR missingness, or compare different missingness\nproportions. An explanation of the input arguments\ncan be found in the [documentation]_ and a more thorough explanation in [this blogpost]_.\nThe default settings generate 1 patterns with MAR missingness\nfor 50% of the rows. The incomplete dataset\ncan be explored using the mdPatterns class.\n\"\"\"\nma = MultivariateAmputation()\nincompl_data = ma.fit_transform(compl_dataset)\nmdp = mdPatterns()\npatterns = mdp._get_patterns(incompl_data)\n\"\"\"\n%%\nImputation\n----------\n\nImputation can easily be done using existing methods.\n Because we make use of sklearn's TransformerMixin,\nit is easy to combine amputation and imputation in one pipeline.\n\nhere some code that shows pipeline\n\n%%\nEvaluation\n----------\nAs an example, here we demonstrate how you can evaluate the effect of missing\nvalues on estimating the mean of a variable.\nhere some code that compares the mean under 1, 2 and 3, and shows differences for MCAR and MAR,\nand differences for SimpleImputer and IterativeImputer.\n\n%%\nReferences\n----------\n\n.. [1] `Generating missing values ...\n       <https://www.tandfonline.com/doi/full/10.1080/00949655.2018.1491577>`_,\n       Rianne M. Schouten, Peter Lugtig & Gerko Vink, etc.\n\n\"\"\""
      ]
    }
  ],
  "metadata": {
    "kernelspec": {
      "display_name": "Python 3",
      "language": "python",
      "name": "python3"
    },
    "language_info": {
      "codemirror_mode": {
        "name": "ipython",
        "version": 3
      },
      "file_extension": ".py",
      "mimetype": "text/x-python",
      "name": "python",
      "nbconvert_exporter": "python",
      "pygments_lexer": "ipython3",
      "version": "3.8.8"
    }
  },
  "nbformat": 4,
  "nbformat_minor": 0
}