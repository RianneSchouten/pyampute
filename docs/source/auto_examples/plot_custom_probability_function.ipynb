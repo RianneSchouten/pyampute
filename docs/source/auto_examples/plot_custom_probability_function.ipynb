{
  "cells": [
    {
      "cell_type": "code",
      "execution_count": null,
      "metadata": {
        "collapsed": false
      },
      "outputs": [],
      "source": [
        "%matplotlib inline"
      ]
    },
    {
      "cell_type": "markdown",
      "metadata": {},
      "source": [
        "\n# Amputing with a custom probability function\n"
      ]
    },
    {
      "cell_type": "markdown",
      "metadata": {},
      "source": [
        "Create complete data.\n\n"
      ]
    },
    {
      "cell_type": "code",
      "execution_count": null,
      "metadata": {
        "collapsed": false
      },
      "outputs": [],
      "source": [
        "import numpy as np\n\nn = 10000\nX = np.random.randn(n, 2)"
      ]
    },
    {
      "cell_type": "markdown",
      "metadata": {},
      "source": [
        "Define custom probability function.\n\n"
      ]
    },
    {
      "cell_type": "code",
      "execution_count": null,
      "metadata": {
        "collapsed": false
      },
      "outputs": [],
      "source": [
        "# purely for demonstrative type hints\nfrom pyampute import ArrayLike\n\n# Must produce values between 0 and 1\ndef min_max_scale(X: ArrayLike) -> ArrayLike:\n    X_abs = np.abs(X)\n    return (X_abs - X_abs.min()) / (X_abs.max() - X_abs.min())"
      ]
    },
    {
      "cell_type": "markdown",
      "metadata": {},
      "source": [
        "Define some patterns.\nInclude the custom score to probability function in whichever pattern(s) you desire.\nHere we'll create 3 patterns.\nNote that the first and last pattern have the same weights but use different ``score_to_probability_func`` s.\nThe first pattern introduces missingness to feature 0, and the latter two introduce missingness to feature 1.\n\n"
      ]
    },
    {
      "cell_type": "code",
      "execution_count": null,
      "metadata": {
        "collapsed": false
      },
      "outputs": [],
      "source": [
        "my_incomplete_vars = [np.array([0]), np.array([1]), np.array([1])]\nmy_freqs = np.array((0.3, 0.2, 0.5))\nmy_weights = [np.array([4, 1]), np.array([0, 1]), np.array([4, 1])]\nmy_score_to_probability_funcs = [min_max_scale, \"sigmoid-right\", \"sigmoid-right\"]\nmy_prop = 0.3\n\npatterns = [\n    {\n        \"incomplete_vars\": incomplete_vars,\n        \"freq\": freq,\n        \"weights\": weights,\n        \"score_to_probability_func\": score_to_probability_func,\n    }\n    for incomplete_vars, freq, weights, score_to_probability_func in zip(\n        my_incomplete_vars, my_freqs, my_weights, my_score_to_probability_funcs\n    )\n]"
      ]
    },
    {
      "cell_type": "markdown",
      "metadata": {},
      "source": [
        "Run ampute.\n\n"
      ]
    },
    {
      "cell_type": "code",
      "execution_count": null,
      "metadata": {
        "collapsed": false
      },
      "outputs": [],
      "source": [
        "from pyampute import MultivariateAmputation\n\nma = MultivariateAmputation(prop=my_prop, patterns=patterns)\nincomplete_data = ma.fit_transform(X)"
      ]
    },
    {
      "cell_type": "markdown",
      "metadata": {},
      "source": [
        "We expect about 30% of rows to be missing values\n\n"
      ]
    },
    {
      "cell_type": "code",
      "execution_count": null,
      "metadata": {
        "collapsed": false
      },
      "outputs": [],
      "source": [
        "np.isnan(incomplete_data).any(axis=1).mean() * 100"
      ]
    },
    {
      "cell_type": "code",
      "execution_count": null,
      "metadata": {
        "collapsed": false
      },
      "outputs": [],
      "source": [
        "from pyampute.exploration.md_patterns import mdPatterns\n\nmdp = mdPatterns()\npattern = mdp.get_patterns(incomplete_data)"
      ]
    },
    {
      "cell_type": "markdown",
      "metadata": {},
      "source": [
        "Plot probabilities per pattern against the weighted sum scores per pattern.\nNote that Pattern 1 and Pattern 3 have the same weights.\n\n"
      ]
    },
    {
      "cell_type": "code",
      "execution_count": null,
      "metadata": {
        "collapsed": false
      },
      "outputs": [],
      "source": [
        "import matplotlib.pyplot as plt\n\nfig, ax = plt.subplots(\n    len(patterns), 1, constrained_layout=True, sharex=True, sharey=True\n)\nfor pattern_idx in range(len(patterns)):\n    ax[pattern_idx].scatter(\n        ma.wss_per_pattern[pattern_idx], ma.probs_per_pattern[pattern_idx]\n    )\n    score_to_prob_func = patterns[pattern_idx][\"score_to_probability_func\"]\n    name = (\n        score_to_prob_func\n        if isinstance(score_to_prob_func, str)\n        else score_to_prob_func.__name__\n    )\n    ax[pattern_idx].set_title(f\"Pattern {pattern_idx + 1} ({name})\")\n# supxlabel requires matplotlib>=3.4.0\nfig.supxlabel(\"Weighted Sum Score\")\nfig.supylabel(\"Probability\")\nplt.show()"
      ]
    },
    {
      "cell_type": "markdown",
      "metadata": {},
      "source": [
        "## Cases when you might not achieve desired amount of missingness\nHere we rerun the amputation process but with only one pattern,\nand that pattern uses a custom ``score_to_probability_func``.\n\n"
      ]
    },
    {
      "cell_type": "code",
      "execution_count": null,
      "metadata": {
        "collapsed": false
      },
      "outputs": [],
      "source": [
        "patterns = [\n    {\"incomplete_vars\": [np.array([0])], \"score_to_probability_func\": min_max_scale}\n]\nma = MultivariateAmputation(prop=my_prop, patterns=patterns)\nincomplete_data = ma.fit_transform(X)\n\nmdp = mdPatterns()\npattern = mdp.get_patterns(incomplete_data)"
      ]
    },
    {
      "cell_type": "markdown",
      "metadata": {},
      "source": [
        "We expect about 30% of rows to be missing values.\n\n"
      ]
    },
    {
      "cell_type": "code",
      "execution_count": null,
      "metadata": {
        "collapsed": false
      },
      "outputs": [],
      "source": [
        "np.isnan(incomplete_data).any(axis=1).mean() * 100"
      ]
    },
    {
      "cell_type": "markdown",
      "metadata": {},
      "source": [
        "We expected 30% of rows to be missing values but when we only have one\npattern with a custom ``score_to_probability_func`` we don't see that result.\n\n**This is expected behavior**.\nFor the sigmoid functions, we use ``prop`` to influence the proportion\nof missingness by shifting the sigmoid function accordingly.\nHowever, for a given custom probability we cannot know ahead of time\nhow to adjust the function in order to produce the desired proportion\nof missingness.\nIn the previous example, we achieved nearly 30% missingness due to the\nsecond and third patterns using the sigmoid ``score_to_probability_func``.\n\nIf you would like to use a custom probability function is it your responsibility\nto adjust the function to produce the desired amount of missingness.\nYou can calculate the expected proportion of missingness following the procedure in Appendix 2 of `Schouten et al. (2018)`_.\n\n\n"
      ]
    }
  ],
  "metadata": {
    "kernelspec": {
      "display_name": "Python 3",
      "language": "python",
      "name": "python3"
    },
    "language_info": {
      "codemirror_mode": {
        "name": "ipython",
        "version": 3
      },
      "file_extension": ".py",
      "mimetype": "text/x-python",
      "name": "python",
      "nbconvert_exporter": "python",
      "pygments_lexer": "ipython3",
      "version": "3.8.1"
    }
  },
  "nbformat": 4,
  "nbformat_minor": 0
}