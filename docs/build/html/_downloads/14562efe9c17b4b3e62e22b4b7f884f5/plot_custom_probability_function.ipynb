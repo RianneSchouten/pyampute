{
  "cells": [
    {
      "cell_type": "code",
      "execution_count": null,
      "metadata": {
        "collapsed": false
      },
      "outputs": [],
      "source": [
        "%matplotlib inline"
      ]
    },
    {
      "cell_type": "markdown",
      "metadata": {},
      "source": [
        "\n# Amputing with a Custom Probability Function\n"
      ]
    },
    {
      "cell_type": "code",
      "execution_count": null,
      "metadata": {
        "collapsed": false
      },
      "outputs": [],
      "source": [
        "\"\"\"\nCreate complete data.\n\"\"\"\nimport numpy as np\n\nn = 10000\nX = np.random.randn(n, 2)"
      ]
    },
    {
      "cell_type": "code",
      "execution_count": null,
      "metadata": {
        "collapsed": false
      },
      "outputs": [],
      "source": [
        "\"\"\"\nDefine custom probability function.\n\"\"\"\n# purely for demonstrative type hints\nfrom pyampute import ArrayLike\n\n\n# Must produce values between 0 and 1\ndef min_max_scale(X: ArrayLike) -> ArrayLike:\n    X_abs = np.abs(X)\n    return (X_abs - X_abs.min()) / (X_abs.max() - X_abs.min())"
      ]
    },
    {
      "cell_type": "code",
      "execution_count": null,
      "metadata": {
        "collapsed": false
      },
      "outputs": [],
      "source": [
        "\"\"\"\nDefine some patterns.\nInclude the custom score to probability function in whichever pattern(s) you desire.\n\"\"\"\nmy_incomplete_vars = [np.array([0]), np.array([1]), np.array([1])]\nmy_freqs = np.array((0.3, 0.2, 0.5))\nmy_weights = [np.array([4, 1]), np.array([0, 1]), np.array([1, 0])]\nmy_score_to_probability_funcs = [min_max_scale, \"sigmoid-right\", \"sigmoid-right\"]\nmy_prop = 0.3\n\npatterns = [\n    {\n        \"incomplete_vars\": incomplete_vars,\n        \"freq\": freq,\n        \"weights\": weights,\n        \"score_to_probability_func\": score_to_probability_func,\n    }\n    for incomplete_vars, freq, weights, score_to_probability_func in zip(\n        my_incomplete_vars, my_freqs, my_weights, my_score_to_probability_funcs\n    )\n]"
      ]
    },
    {
      "cell_type": "code",
      "execution_count": null,
      "metadata": {
        "collapsed": false
      },
      "outputs": [],
      "source": [
        "\"\"\"\nRun ampute.\n\"\"\"\nfrom pyampute import MultivariateAmputation\n\nma = MultivariateAmputation(prop=my_prop, patterns=patterns)\nincomplete_data = ma.fit_transform(X)"
      ]
    }
  ],
  "metadata": {
    "kernelspec": {
      "display_name": "Python 3",
      "language": "python",
      "name": "python3"
    },
    "language_info": {
      "codemirror_mode": {
        "name": "ipython",
        "version": 3
      },
      "file_extension": ".py",
      "mimetype": "text/x-python",
      "name": "python",
      "nbconvert_exporter": "python",
      "pygments_lexer": "ipython3",
      "version": "3.8.1"
    }
  },
  "nbformat": 4,
  "nbformat_minor": 0
}