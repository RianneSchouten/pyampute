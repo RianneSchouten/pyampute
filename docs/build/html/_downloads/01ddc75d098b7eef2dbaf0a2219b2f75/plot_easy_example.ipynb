{
  "cells": [
    {
      "cell_type": "code",
      "execution_count": null,
      "metadata": {
        "collapsed": false
      },
      "outputs": [],
      "source": [
        "%matplotlib inline"
      ]
    },
    {
      "cell_type": "markdown",
      "metadata": {},
      "source": [
        "\n# Example Usage\n\nThis is a very easy example of how the MultivariateAmputation can be used. The input is always a complete dataset. After amputation, an incomplete dataset can be explored using the mdPatterns class.\n\nTo further understand why you would want to ampute your complete dataset, see this example [1]_. In [this blogpost]_ we elaborate on how the input arguments can be specified and how they will lead to different kinds of missing data problems. \n"
      ]
    },
    {
      "cell_type": "code",
      "execution_count": null,
      "metadata": {
        "collapsed": false
      },
      "outputs": [],
      "source": [
        "import numpy as np\nfrom pyampute.ampute import MultivariateAmputation\nfrom pyampute.exploration.md_patterns import mdPatterns\n\nm = 1000\nn = 10\ncompl_dataset = np.random.randn(n, m)\n\nma = MultivariateAmputation()\nincompl_data = ma.fit_transform(compl_dataset)\n\nmdp = mdPatterns()\npatterns = mdp._get_patterns(incompl_data)"
      ]
    }
  ],
  "metadata": {
    "kernelspec": {
      "display_name": "Python 3",
      "language": "python",
      "name": "python3"
    },
    "language_info": {
      "codemirror_mode": {
        "name": "ipython",
        "version": 3
      },
      "file_extension": ".py",
      "mimetype": "text/x-python",
      "name": "python",
      "nbconvert_exporter": "python",
      "pygments_lexer": "ipython3",
      "version": "3.8.1"
    }
  },
  "nbformat": 4,
  "nbformat_minor": 0
}