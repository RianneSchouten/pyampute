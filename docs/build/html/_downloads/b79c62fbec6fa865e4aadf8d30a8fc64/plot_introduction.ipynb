{
  "cells": [
    {
      "cell_type": "code",
      "execution_count": null,
      "metadata": {
        "collapsed": false
      },
      "outputs": [],
      "source": [
        "%matplotlib inline"
      ]
    },
    {
      "cell_type": "markdown",
      "metadata": {},
      "source": [
        "\n# Main title of example\nSome explanation\n"
      ]
    },
    {
      "cell_type": "markdown",
      "metadata": {},
      "source": [
        "Author: Rianne Schouten <r.m.schouten@tue.nl>\n\n## Synthetic dataset\n\nSome explanation with a reference [1]_\n\n"
      ]
    },
    {
      "cell_type": "code",
      "execution_count": null,
      "metadata": {
        "collapsed": false
      },
      "outputs": [],
      "source": [
        "import numpy as np\n\nm = 1000\nn = 10\ncom_dataset = np.zeros((m, n))"
      ]
    },
    {
      "cell_type": "markdown",
      "metadata": {},
      "source": [
        "## Multivariate Amputation\n\nSome explanation\n\n"
      ]
    },
    {
      "cell_type": "code",
      "execution_count": null,
      "metadata": {
        "collapsed": false
      },
      "outputs": [],
      "source": [
        "from pyampute.ampute import MultivariateAmputation\n\nmads = MultivariateAmputation()\nincomplete_data = mads.fit_transform(com_dataset)"
      ]
    },
    {
      "cell_type": "code",
      "execution_count": null,
      "metadata": {
        "collapsed": false
      },
      "outputs": [],
      "source": [
        "from pyampute.exploration.md_patterns import mdPatterns\n\nmdp = mdPatterns()\nplot = mdp._get_patterns(incomplete_data)"
      ]
    },
    {
      "cell_type": "markdown",
      "metadata": {},
      "source": [
        "## References\n\n.. [1] `Generating missing values ...\n       <https://www.tandfonline.com/doi/full/10.1080/00949655.2018.1491577>`_,\n       Rianne M. Schouten, Peter Lugtig & Gerko Vink, etc.\n\n"
      ]
    }
  ],
  "metadata": {
    "kernelspec": {
      "display_name": "Python 3",
      "language": "python",
      "name": "python3"
    },
    "language_info": {
      "codemirror_mode": {
        "name": "ipython",
        "version": 3
      },
      "file_extension": ".py",
      "mimetype": "text/x-python",
      "name": "python",
      "nbconvert_exporter": "python",
      "pygments_lexer": "ipython3",
      "version": "3.9.7"
    }
  },
  "nbformat": 4,
  "nbformat_minor": 0
}